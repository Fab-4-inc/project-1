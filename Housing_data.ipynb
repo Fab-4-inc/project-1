{
 "cells": [
  {
   "cell_type": "code",
   "execution_count": null,
   "metadata": {},
   "outputs": [],
   "source": [
    "import pandas as pd"
   ]
  },
  {
   "cell_type": "code",
   "execution_count": null,
   "metadata": {},
   "outputs": [],
   "source": [
    "red_fin_data = \"red_fin.csv\"\n",
    "house_df = pd.read_csv(red_fin_data)\n",
    "house_df"
   ]
  },
  {
   "cell_type": "code",
   "execution_count": null,
   "metadata": {},
   "outputs": [],
   "source": [
    "house_df[\"Year\"] = house_df[\"Month of Period End\"].str[-2:]\n",
    "house_df"
   ]
  },
  {
   "cell_type": "code",
   "execution_count": null,
   "metadata": {},
   "outputs": [],
   "source": [
    "summary_house = house_df[[\"Region\",\"Year\",\"Month of Period End\",\"Median Sale Price\", \"Homes Sold\", \"New Listings\",\"Days on Market\"]]\n",
    "summary_house"
   ]
  },
  {
   "cell_type": "code",
   "execution_count": null,
   "metadata": {},
   "outputs": [],
   "source": [
    "summary_house = summary_house.rename(columns={\"Region\":\"Neighborhood\",\"Month of Period End\":\"Month\",\n",
    "                                                  \"Median Sale Price\":\"Sale Price\"})\n",
    "summary_house"
   ]
  },
  {
   "cell_type": "code",
   "execution_count": null,
   "metadata": {},
   "outputs": [],
   "source": [
    "houses_2019 = summary_house.loc[(summary_house[\"Year\"] == \"19\")]\n",
    "houses_2019 = pd.DataFrame(houses_2019)\n",
    "houses_2019.dropna()\n",
    "houses_2019"
   ]
  },
  {
   "cell_type": "code",
   "execution_count": null,
   "metadata": {},
   "outputs": [],
   "source": [
    "ch_neighborhoods =  (houses_2019[\"Neighborhood\"].unique())\n",
    "ch_neighborhoods"
   ]
  },
  {
   "cell_type": "code",
   "execution_count": null,
   "metadata": {},
   "outputs": [],
   "source": [
    "len(ch_neighborhoods)"
   ]
  },
  {
   "cell_type": "code",
   "execution_count": null,
   "metadata": {},
   "outputs": [],
   "source": [
    "houses_2019[[\"State\", \"Neigh\"]] = houses_2019.Neighborhood.str.split(\"\",expand=True,)\n",
    "houses_2019"
   ]
  },
  {
   "cell_type": "code",
   "execution_count": null,
   "metadata": {},
   "outputs": [],
   "source": []
  }
 ],
 "metadata": {
  "kernelspec": {
   "display_name": "Python 3",
   "language": "python",
   "name": "python3"
  },
  "language_info": {
   "codemirror_mode": {
    "name": "ipython",
    "version": 3
   },
   "file_extension": ".py",
   "mimetype": "text/x-python",
   "name": "python",
   "nbconvert_exporter": "python",
   "pygments_lexer": "ipython3",
   "version": "3.7.4"
  }
 },
 "nbformat": 4,
 "nbformat_minor": 2
}
